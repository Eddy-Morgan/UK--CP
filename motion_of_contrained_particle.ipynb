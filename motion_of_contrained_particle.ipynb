{
 "cells": [
  {
   "cell_type": "code",
   "execution_count": 39,
   "id": "dd8cd735",
   "metadata": {},
   "outputs": [],
   "source": [
    "import sympy as sm\n",
    "from sympy import diff, Symbol\n",
    "from scipy.integrate import odeint\n",
    "import numpy as np\n",
    "from sympy.physics.mechanics import dynamicsymbols\n",
    "import math"
   ]
  },
  {
   "cell_type": "code",
   "execution_count": 40,
   "id": "fdc459af",
   "metadata": {},
   "outputs": [],
   "source": [
    "from sympy.physics.vector import init_vprinting\n",
    "init_vprinting(use_latex=\"mathjax\", pretty_print=False)"
   ]
  },
  {
   "cell_type": "code",
   "execution_count": 41,
   "id": "e8907cf2",
   "metadata": {},
   "outputs": [
    {
     "data": {
      "text/latex": [
       "$\\displaystyle \\left( m, \\  g, \\  \\theta, \\  r, \\  \\dot{\\theta}, \\  \\ddot{\\theta}, \\  \\dot{r}, \\  \\ddot{r}\\right)$"
      ],
      "text/plain": [
       "(m, g, theta, r, theta', theta'', r', r'')"
      ]
     },
     "execution_count": 41,
     "metadata": {},
     "output_type": "execute_result"
    }
   ],
   "source": [
    "m,g = sm.symbols('m g', real =True)\n",
    "theta, r = dynamicsymbols('theta r')\n",
    "thetad = dynamicsymbols('theta',1)\n",
    "thetadd = dynamicsymbols('theta',2)\n",
    "rd = dynamicsymbols('r',1)\n",
    "rdd = dynamicsymbols('r',2)\n",
    "m,g,theta,r,thetad, thetadd, rd, rdd"
   ]
  },
  {
   "cell_type": "code",
   "execution_count": 42,
   "id": "0b64db0f",
   "metadata": {},
   "outputs": [
    {
     "data": {
      "text/latex": [
       "$\\displaystyle \\left( r \\cos{\\left(\\theta \\right)}, \\  r \\sin{\\left(\\theta \\right)}\\right)$"
      ],
      "text/plain": [
       "(r*cos(theta), r*sin(theta))"
      ]
     },
     "execution_count": 42,
     "metadata": {},
     "output_type": "execute_result"
    }
   ],
   "source": [
    "x = r*sm.cos(theta)\n",
    "y = r*sm.sin(theta)\n",
    "x,y"
   ]
  },
  {
   "cell_type": "code",
   "execution_count": 43,
   "id": "84a89889",
   "metadata": {},
   "outputs": [
    {
     "data": {
      "text/latex": [
       "$\\displaystyle \\left( - r \\sin{\\left(\\theta \\right)} \\dot{\\theta} + \\cos{\\left(\\theta \\right)} \\dot{r}, \\  r \\cos{\\left(\\theta \\right)} \\dot{\\theta} + \\sin{\\left(\\theta \\right)} \\dot{r}\\right)$"
      ],
      "text/plain": [
       "(-r*sin(theta)*theta' + cos(theta)*r', r*cos(theta)*theta' + sin(theta)*r')"
      ]
     },
     "execution_count": 43,
     "metadata": {},
     "output_type": "execute_result"
    }
   ],
   "source": [
    "xd = sm.diff(x,'t')\n",
    "yd = sm.diff(y,'t')\n",
    "xd,yd"
   ]
  },
  {
   "cell_type": "code",
   "execution_count": 44,
   "id": "27516468",
   "metadata": {},
   "outputs": [
    {
     "data": {
      "text/latex": [
       "$\\displaystyle \\left( - r \\sin{\\left(\\theta \\right)} \\ddot{\\theta} - r \\cos{\\left(\\theta \\right)} \\dot{\\theta}^{2} - 2 \\sin{\\left(\\theta \\right)} \\dot{r} \\dot{\\theta} + \\cos{\\left(\\theta \\right)} \\ddot{r}, \\  - r \\sin{\\left(\\theta \\right)} \\dot{\\theta}^{2} + r \\cos{\\left(\\theta \\right)} \\ddot{\\theta} + \\sin{\\left(\\theta \\right)} \\ddot{r} + 2 \\cos{\\left(\\theta \\right)} \\dot{r} \\dot{\\theta}\\right)$"
      ],
      "text/plain": [
       "(-r*sin(theta)*theta'' - r*cos(theta)*theta'**2 - 2*sin(theta)*r'*theta' + cos(theta)*r'', -r*sin(theta)*theta'**2 + r*cos(theta)*theta'' + sin(theta)*r'' + 2*cos(theta)*r'*theta')"
      ]
     },
     "execution_count": 44,
     "metadata": {},
     "output_type": "execute_result"
    }
   ],
   "source": [
    "xdd = sm.diff(xd,'t')\n",
    "ydd = sm.diff(yd,'t')\n",
    "xdd, ydd"
   ]
  },
  {
   "cell_type": "code",
   "execution_count": 45,
   "id": "e25a63e0",
   "metadata": {},
   "outputs": [
    {
     "data": {
      "text/latex": [
       "$\\displaystyle \\left( - g \\sin{\\left(\\theta \\right)} + r \\dot{\\theta}^{2}, \\  - \\frac{g \\cos{\\left(\\theta \\right)} + 2 \\dot{r} \\dot{\\theta}}{r}\\right)$"
      ],
      "text/plain": [
       "(-g*sin(theta) + r*theta'**2, -(g*cos(theta) + 2*r'*theta')/r)"
      ]
     },
     "execution_count": 45,
     "metadata": {},
     "output_type": "execute_result"
    }
   ],
   "source": [
    "dynamics_sol = sm.solve([(m*xdd)  ,((m*ydd)+(m*g)) ],[rdd,thetadd])\n",
    "rdd_solver = sm.simplify(dynamics_sol[rdd])\n",
    "thetadd_solver = sm.simplify(dynamics_sol[thetadd])\n",
    "rdd_solver,thetadd_solver"
   ]
  },
  {
   "cell_type": "code",
   "execution_count": 46,
   "id": "57f93aee",
   "metadata": {},
   "outputs": [
    {
     "data": {
      "text/latex": [
       "$\\displaystyle \\left[\\begin{matrix}m & 0\\\\0 & m\\end{matrix}\\right]$"
      ],
      "text/plain": [
       "Matrix([\n",
       "[m, 0],\n",
       "[0, m]])"
      ]
     },
     "execution_count": 46,
     "metadata": {},
     "output_type": "execute_result"
    }
   ],
   "source": [
    "M = sm.Matrix([[m, 0],[0, m]])\n",
    "M"
   ]
  },
  {
   "cell_type": "code",
   "execution_count": 47,
   "id": "924952ed",
   "metadata": {},
   "outputs": [
    {
     "data": {
      "text/latex": [
       "$\\displaystyle \\left[\\begin{matrix}- g \\sin{\\left(\\theta \\right)} + r \\dot{\\theta}^{2}\\\\- \\frac{g \\cos{\\left(\\theta \\right)} + 2 \\dot{r} \\dot{\\theta}}{r}\\end{matrix}\\right]$"
      ],
      "text/plain": [
       "Matrix([\n",
       "[    -g*sin(theta) + r*theta'**2],\n",
       "[-(g*cos(theta) + 2*r'*theta')/r]])"
      ]
     },
     "execution_count": 47,
     "metadata": {},
     "output_type": "execute_result"
    }
   ],
   "source": [
    "a0 = sm.Matrix([rdd_solver, thetadd_solver])\n",
    "a0"
   ]
  },
  {
   "cell_type": "code",
   "execution_count": 48,
   "id": "cea83600",
   "metadata": {},
   "outputs": [
    {
     "data": {
      "text/latex": [
       "$\\displaystyle \\left[\\begin{matrix}m \\left(- g \\sin{\\left(\\theta \\right)} + r \\dot{\\theta}^{2}\\right)\\\\- \\frac{m \\left(g \\cos{\\left(\\theta \\right)} + 2 \\dot{r} \\dot{\\theta}\\right)}{r}\\end{matrix}\\right]$"
      ],
      "text/plain": [
       "Matrix([\n",
       "[  m*(-g*sin(theta) + r*theta'**2)],\n",
       "[-m*(g*cos(theta) + 2*r'*theta')/r]])"
      ]
     },
     "execution_count": 48,
     "metadata": {},
     "output_type": "execute_result"
    }
   ],
   "source": [
    "F = m*a0\n",
    "F"
   ]
  },
  {
   "cell_type": "markdown",
   "id": "f45d4610",
   "metadata": {},
   "source": [
    "<h3>constraint is described by</h3>"
   ]
  },
  {
   "cell_type": "code",
   "execution_count": 49,
   "id": "f284f939",
   "metadata": {},
   "outputs": [
    {
     "data": {
      "text/latex": [
       "$\\displaystyle \\left( e^{0.1 \\theta}, \\  30 - t\\right)$"
      ],
      "text/plain": [
       "(exp(0.1*theta), 30 - t)"
      ]
     },
     "execution_count": 49,
     "metadata": {},
     "output_type": "execute_result"
    }
   ],
   "source": [
    "r_c = sm.exp(0.1*theta)\n",
    "theta_c = -Symbol('t')+30\n",
    "r_c,theta_c"
   ]
  },
  {
   "cell_type": "code",
   "execution_count": 50,
   "id": "1388467e",
   "metadata": {},
   "outputs": [
    {
     "data": {
      "text/latex": [
       "$\\displaystyle \\left( 0.01 e^{0.1 \\theta} \\dot{\\theta}^{2} + 0.1 e^{0.1 \\theta} \\ddot{\\theta}, \\  0\\right)$"
      ],
      "text/plain": [
       "(0.01*exp(0.1*theta)*theta'**2 + 0.1*exp(0.1*theta)*theta'', 0)"
      ]
     },
     "execution_count": 50,
     "metadata": {},
     "output_type": "execute_result"
    }
   ],
   "source": [
    "r_cdd = sm.diff(sm.diff(r_c,'t'),'t')\n",
    "theta_cdd = sm.diff(sm.diff(theta_c,'t'),'t')\n",
    "r_cdd, theta_cdd"
   ]
  },
  {
   "cell_type": "code",
   "execution_count": 51,
   "id": "0962a177",
   "metadata": {},
   "outputs": [
    {
     "data": {
      "text/latex": [
       "$\\displaystyle \\left( - 0.01 e^{0.1 \\theta} \\dot{\\theta}^{2} - 0.1 e^{0.1 \\theta} \\ddot{\\theta} + \\ddot{r}, \\  \\ddot{\\theta}\\right)$"
      ],
      "text/plain": [
       "(-0.01*exp(0.1*theta)*theta'**2 - 0.1*exp(0.1*theta)*theta'' + r'', theta'')"
      ]
     },
     "execution_count": 51,
     "metadata": {},
     "output_type": "execute_result"
    }
   ],
   "source": [
    "r_ac = rdd - r_cdd\n",
    "theta_ac = thetadd - theta_cdd\n",
    "r_ac,theta_ac"
   ]
  },
  {
   "cell_type": "code",
   "execution_count": 52,
   "id": "c68183f3",
   "metadata": {},
   "outputs": [
    {
     "data": {
      "text/latex": [
       "$\\displaystyle \\left[\\begin{matrix}1 & - 0.1 e^{0.1 \\theta}\\\\0 & 1\\end{matrix}\\right]$"
      ],
      "text/plain": [
       "Matrix([\n",
       "[1, -0.1*exp(0.1*theta)],\n",
       "[0,                   1]])"
      ]
     },
     "execution_count": 52,
     "metadata": {},
     "output_type": "execute_result"
    }
   ],
   "source": [
    "rs1 = r_ac.coeff(rdd)\n",
    "thetas1 = r_ac.coeff(thetadd)\n",
    "rs2 = theta_ac.coeff(rdd)\n",
    "thetas2 = theta_ac.coeff(thetadd)\n",
    "A = sm.Matrix([[rs1,thetas1],[rs2,thetas2]])\n",
    "A"
   ]
  },
  {
   "cell_type": "code",
   "execution_count": 53,
   "id": "0d94f1e9",
   "metadata": {},
   "outputs": [
    {
     "data": {
      "text/latex": [
       "$\\displaystyle \\left[\\begin{matrix}0.01 e^{0.1 \\theta} \\dot{\\theta}^{2}\\\\0\\end{matrix}\\right]$"
      ],
      "text/plain": [
       "Matrix([\n",
       "[0.01*exp(0.1*theta)*theta'**2],\n",
       "[                            0]])"
      ]
     },
     "execution_count": 53,
     "metadata": {},
     "output_type": "execute_result"
    }
   ],
   "source": [
    "b1 = -(r_ac - rs1*rdd - thetas1*thetadd)\n",
    "b2 = -(theta_ac - rs2*rdd - thetas2*thetadd)\n",
    "b = sm.Matrix([b1 , b2])\n",
    "b"
   ]
  },
  {
   "cell_type": "code",
   "execution_count": 54,
   "id": "f8e2be59",
   "metadata": {},
   "outputs": [
    {
     "data": {
      "text/latex": [
       "$\\displaystyle \\left[\\begin{matrix}\\frac{0.1 m^{1.0} \\left(g \\cos{\\left(\\theta \\right)} + 2 \\dot{r} \\dot{\\theta}\\right) e^{0.1 \\theta}}{r} + 1.0 m^{1.0} \\left(g \\sin{\\left(\\theta \\right)} - \\frac{0.1 \\left(g \\cos{\\left(\\theta \\right)} + 2 \\dot{r} \\dot{\\theta}\\right) e^{0.1 \\theta}}{r} - r \\dot{\\theta}^{2} + 0.01 e^{0.1 \\theta} \\dot{\\theta}^{2}\\right)\\\\\\frac{m^{1.0} \\left(g \\cos{\\left(\\theta \\right)} + 2 \\dot{r} \\dot{\\theta}\\right)}{r}\\end{matrix}\\right]$"
      ],
      "text/plain": [
       "Matrix([\n",
       "[0.1*m**1.0*(g*cos(theta) + 2*r'*theta')*exp(0.1*theta)/r + 1.0*m**1.0*(g*sin(theta) - 0.1*(g*cos(theta) + 2*r'*theta')*exp(0.1*theta)/r - r*theta'**2 + 0.01*exp(0.1*theta)*theta'**2)],\n",
       "[                                                                                                                                                 m**1.0*(g*cos(theta) + 2*r'*theta')/r]])"
      ]
     },
     "execution_count": 54,
     "metadata": {},
     "output_type": "execute_result"
    }
   ],
   "source": [
    "Fc =  M**(1/2)*sm.Matrix.pinv(A*(M**(-1/2)))*(b-(A*(M**(-1))*F))\n",
    "Fc"
   ]
  },
  {
   "cell_type": "code",
   "execution_count": 55,
   "id": "966f2f10",
   "metadata": {},
   "outputs": [
    {
     "data": {
      "text/latex": [
       "$\\displaystyle \\left[\\begin{matrix}\\frac{0.1 m^{1.0} \\left(g \\cos{\\left(\\theta \\right)} + 2 \\dot{r} \\dot{\\theta}\\right) e^{0.1 \\theta}}{r} + 1.0 m^{1.0} \\left(g \\sin{\\left(\\theta \\right)} - \\frac{0.1 \\left(g \\cos{\\left(\\theta \\right)} + 2 \\dot{r} \\dot{\\theta}\\right) e^{0.1 \\theta}}{r} - r \\dot{\\theta}^{2} + 0.01 e^{0.1 \\theta} \\dot{\\theta}^{2}\\right) + m \\left(- g \\sin{\\left(\\theta \\right)} + r \\dot{\\theta}^{2}\\right)\\\\- \\frac{m \\left(g \\cos{\\left(\\theta \\right)} + 2 \\dot{r} \\dot{\\theta}\\right)}{r} + \\frac{m^{1.0} \\left(g \\cos{\\left(\\theta \\right)} + 2 \\dot{r} \\dot{\\theta}\\right)}{r}\\end{matrix}\\right]$"
      ],
      "text/plain": [
       "Matrix([\n",
       "[0.1*m**1.0*(g*cos(theta) + 2*r'*theta')*exp(0.1*theta)/r + 1.0*m**1.0*(g*sin(theta) - 0.1*(g*cos(theta) + 2*r'*theta')*exp(0.1*theta)/r - r*theta'**2 + 0.01*exp(0.1*theta)*theta'**2) + m*(-g*sin(theta) + r*theta'**2)],\n",
       "[                                                                                                                                               -m*(g*cos(theta) + 2*r'*theta')/r + m**1.0*(g*cos(theta) + 2*r'*theta')/r]])"
      ]
     },
     "execution_count": 55,
     "metadata": {},
     "output_type": "execute_result"
    }
   ],
   "source": [
    "rf = F + Fc\n",
    "rf"
   ]
  },
  {
   "cell_type": "code",
   "execution_count": 56,
   "id": "809ef242",
   "metadata": {},
   "outputs": [],
   "source": [
    "rdd_func = sm.lambdify([m, g, theta, thetad, r, rd], rf[0])\n",
    "thetadd_func = sm.lambdify([m, g, theta, thetad, r, rd], rf[1])\n",
    "rd_func = sm.lambdify(rd, rd)\n",
    "thetad_func = sm.lambdify(thetad, thetad)"
   ]
  },
  {
   "cell_type": "code",
   "execution_count": 57,
   "id": "44fc2d39",
   "metadata": {},
   "outputs": [],
   "source": [
    "# ode func for scipy odeint\n",
    "def dSdt(S,t,m, g):\n",
    "    thetv, thetvd ,rv, rvd = S\n",
    "    return [\n",
    "        thetad_func(thetvd),\n",
    "        thetadd_func(m, g, thetv, thetvd, rv, rvd),\n",
    "        rd_func(rvd),\n",
    "        rdd_func(m, g, thetv, thetvd, rv, rvd)\n",
    "    ]"
   ]
  },
  {
   "cell_type": "code",
   "execution_count": 89,
   "id": "723a66e0",
   "metadata": {},
   "outputs": [],
   "source": [
    "t = np.linspace(0, 50, 251)\n",
    "m = 1\n",
    "g = 9.81\n",
    "r_ic = math.exp(3)\n",
    "theta_ic = 30\n",
    "r_d_ic = -0.1*math.exp(3)\n",
    "theta_d_ic = -1\n",
    "ans = odeint(dSdt, y0=[theta_ic,theta_d_ic,r_ic,r_d_ic], t=t, args=(m,g))"
   ]
  },
  {
   "cell_type": "code",
   "execution_count": 90,
   "id": "e8e6521a",
   "metadata": {},
   "outputs": [
    {
     "data": {
      "text/plain": [
       "array([[ 3.00000000e+01,  2.98000000e+01,  2.96000000e+01, ...,\n",
       "        -1.96000000e+01, -1.98000000e+01, -2.00000000e+01],\n",
       "       [-1.00000000e+00, -1.00000000e+00, -1.00000000e+00, ...,\n",
       "        -1.00000000e+00, -1.00000000e+00, -1.00000000e+00],\n",
       "       [ 2.00855369e+01,  1.96878167e+01,  1.92979720e+01, ...,\n",
       "         1.40856879e-01,  1.38067686e-01,  1.35333722e-01],\n",
       "       [-2.00855369e+00, -1.96878167e+00, -1.92979720e+00, ...,\n",
       "        -1.40858902e-02, -1.38069718e-02, -1.35335764e-02]])"
      ]
     },
     "execution_count": 90,
     "metadata": {},
     "output_type": "execute_result"
    }
   ],
   "source": [
    "ans.T"
   ]
  },
  {
   "cell_type": "code",
   "execution_count": 91,
   "id": "3595e611",
   "metadata": {},
   "outputs": [],
   "source": [
    "thetv_ = ans.T[0]\n",
    "thetvd_ = ans.T[1]\n",
    "rv_ = ans.T[2]\n",
    "rvd_ = ans.T[3]"
   ]
  },
  {
   "cell_type": "code",
   "execution_count": 92,
   "id": "5a69beac",
   "metadata": {},
   "outputs": [],
   "source": [
    "import matplotlib.pyplot as plt"
   ]
  },
  {
   "cell_type": "code",
   "execution_count": 97,
   "id": "7ea4cb21",
   "metadata": {},
   "outputs": [
    {
     "data": {
      "text/plain": [
       "Text(0.5, 1.0, 'Relation between r and θ in constrained system')"
      ]
     },
     "execution_count": 97,
     "metadata": {},
     "output_type": "execute_result"
    },
    {
     "data": {
      "image/png": "[encoded data removed]",
      "text/plain": [
       "<Figure size 432x288 with 1 Axes>"
      ]
     },
     "metadata": {
      "needs_background": "light"
     },
     "output_type": "display_data"
    }
   ],
   "source": [
    "plt.axis([-30, 30, 0, 25])\n",
    "plt.plot(thetv_, rv_)\n",
    "plt.title(\"Relation between r and θ in constrained system\")"
   ]
  },
  {
   "cell_type": "code",
   "execution_count": 96,
   "id": "0a98e413",
   "metadata": {},
   "outputs": [
    {
     "data": {
      "image/png": "[encoded data removed]",
      "text/plain": [
       "<Figure size 432x288 with 1 Axes>"
      ]
     },
     "metadata": {
      "needs_background": "light"
     },
     "output_type": "display_data"
    }
   ],
   "source": [
    "plt.axis([0, 50, -30, 30])\n",
    "plt.plot(t, thetv_,color='b', label='theta')\n",
    "plt.plot(t, rv_, color='r', label='r')\n",
    "plt.title(\"histories of the particle in constrained system\")\n",
    "plt.legend()\n",
    "plt.show()"
   ]
  },
  {
   "cell_type": "code",
   "execution_count": 98,
   "id": "df1dbb98",
   "metadata": {},
   "outputs": [],
   "source": [
    "x = r*sm.cos(theta)\n",
    "y = r*sm.sin(theta)\n",
    "def get_xy(the, d):\n",
    "    return (d*np.cos(the),\n",
    "            d*np.sin(the))\n",
    "\n",
    "\n",
    "x,y = get_xy(ans.T[0],ans.T[2])"
   ]
  },
  {
   "cell_type": "code",
   "execution_count": 100,
   "id": "6cd76c5c",
   "metadata": {},
   "outputs": [
    {
     "data": {
      "text/plain": [
       "Text(0.5, 1.0, 'Relation between r and θ in constrained system')"
      ]
     },
     "execution_count": 100,
     "metadata": {},
     "output_type": "execute_result"
    },
    {
     "data": {
      "image/png": "[encoded data removed]",
      "text/plain": [
       "<Figure size 432x288 with 1 Axes>"
      ]
     },
     "metadata": {
      "needs_background": "light"
     },
     "output_type": "display_data"
    }
   ],
   "source": [
    "plt.axis([-20, 15, -20, 15])\n",
    "plt.plot(x, y,color='r')\n",
    "plt.title(\"Relation between r and θ in constrained system\")"
   ]
  },
  {
   "cell_type": "code",
   "execution_count": null,
   "id": "d404e016",
   "metadata": {},
   "outputs": [],
   "source": []
  }
 ],
 "metadata": {
  "kernelspec": {
   "display_name": "Python 3 (ipykernel)",
   "language": "python",
   "name": "python3"
  },
  "language_info": {
   "codemirror_mode": {
    "name": "ipython",
    "version": 3
   },
   "file_extension": ".py",
   "mimetype": "text/x-python",
   "name": "python",
   "nbconvert_exporter": "python",
   "pygments_lexer": "ipython3",
   "version": "3.9.6"
  }
 },
 "nbformat": 4,
 "nbformat_minor": 5
}
